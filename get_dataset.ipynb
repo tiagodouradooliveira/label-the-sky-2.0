{
 "cells": [
  {
   "cell_type": "markdown",
   "metadata": {},
   "source": [
    "## Setup"
   ]
  },
  {
   "cell_type": "code",
   "execution_count": null,
   "metadata": {},
   "outputs": [],
   "source": [
    "import splusdata\n",
    "import pandas as pd\n",
    "from astropy.io import fits\n",
    "from dl import queryClient as qc\n",
    "from config_loader import load_config"
   ]
  },
  {
   "cell_type": "code",
   "execution_count": 3,
   "metadata": {},
   "outputs": [],
   "source": [
    "template_field_names = [\"STRIPE82-0007\",\n",
    "                        \"STRIPE82-0008\",\n",
    "                        \"STRIPE82-0009\",\n",
    "                        \"STRIPE82-0010\",\n",
    "                        \"STRIPE82-0011\",\n",
    "                        \"STRIPE82-0012\",\n",
    "                        \"STRIPE82-0013\",\n",
    "                        \"STRIPE82-0014\",\n",
    "                        \"STRIPE82-0015\",\n",
    "                        \"STRIPE82-0016\",\n",
    "                        \"STRIPE82-0017\",\n",
    "                        \"STRIPE82-0018\",\n",
    "                        \"STRIPE82-0019\",\n",
    "                        \"STRIPE82-0020\"]\n",
    "\n",
    "BANDS = [\"g\",\n",
    "         \"J0515\",\n",
    "         \"r\",\n",
    "         \"i\",\n",
    "         \"J0861\",\n",
    "         \"z\",\n",
    "         \"J0660\", \n",
    "         \"u\",\n",
    "         \"J0378\",\n",
    "         \"J0395\", \n",
    "         \"J0410\", \n",
    "         \"J0430\"]"
   ]
  },
  {
   "cell_type": "code",
   "execution_count": 5,
   "metadata": {},
   "outputs": [],
   "source": [
    "paths = load_config(\"config/paths.json\")\n",
    "auths = load_config(paths[\"config_path\"] + \"/\" + \"auth.json\")"
   ]
  },
  {
   "cell_type": "code",
   "execution_count": null,
   "metadata": {},
   "outputs": [],
   "source": [
    "login = auths[\"login\"]\n",
    "pwd = auths[\"password\"]\n",
    "\n",
    "conn = splusdata.Core(login, pwd)"
   ]
  },
  {
   "cell_type": "markdown",
   "metadata": {},
   "source": [
    "## Get tables"
   ]
  },
  {
   "cell_type": "code",
   "execution_count": 4,
   "metadata": {},
   "outputs": [],
   "source": [
    "fields_coords = pd.read_csv(paths['tables_path'] + \"/\" + \"iDR4_obs_seeing.csv\")\n",
    "fields_coords.Field = fields_coords.Field.replace({'_': '-', ' ': ''}, regex=True)"
   ]
  },
  {
   "cell_type": "code",
   "execution_count": null,
   "metadata": {},
   "outputs": [],
   "source": [
    "query_fields = \"\"\n",
    "for field in template_field_names:\n",
    "    query_fields += field + \"|\"\n",
    "fields_coords = fields_coords[fields_coords.Field.str.contains(query_fields[:-1])]\n",
    "fields_coords = fields_coords.set_index('Field')"
   ]
  },
  {
   "cell_type": "code",
   "execution_count": null,
   "metadata": {},
   "outputs": [],
   "source": [
    "for field in template_field_names:\n",
    "    field_name = field\n",
    "    ra, dec = fields_coords.loc[field_name].RA, fields_coords.loc[field_name].DEC\n",
    "    offset = 0.7\n",
    "    ra0 = ra - offset\n",
    "    ra1 = ra + offset\n",
    "    dec0 = dec - offset\n",
    "    dec1 = dec + offset\n",
    "\n",
    "    dual = qc.query(sql=f\"SELECT id, fwhm_n, r_auto, r_petro, r_iso FROM splus_dr4.dual WHERE q3c_poly_query(ra, dec, ARRAY[{ra0}, {dec0}, {ra0}, {dec1}, {ra1}, {dec1}, {ra1}, {dec0}])\", fmt=\"pandas\")\n",
    "    objs = qc.query(sql=f\"SELECT id, ra, dec, class, prob_qso, prob_star, prob_gal FROM splus_dr4.sqg WHERE q3c_poly_query(ra, dec, ARRAY[{ra0}, {dec0}, {ra0}, {dec1}, {ra1}, {dec1}, {ra1}, {dec0}])\", fmt=\"pandas\")\n",
    "    objs = pd.merge(objs, dual, on=\"id\")\n",
    "    objs.to_csv(paths['tables_paths'] + \"/\" + f\"DR4-{field_name}-objs.csv\", index=False)"
   ]
  },
  {
   "cell_type": "markdown",
   "metadata": {},
   "source": [
    "## Get fields"
   ]
  },
  {
   "cell_type": "code",
   "execution_count": null,
   "metadata": {},
   "outputs": [],
   "source": [
    "for field_name in template_field_names:\n",
    "    for band in BANDS:\n",
    "        hdus = conn.field_frame(field_name, band)\n",
    "        filename = field_name + \"-\" + band + \".fits\"\n",
    "        hdus.writeto(paths['data_path'] + \"/\" + filename, overwrite=False)"
   ]
  }
 ],
 "metadata": {
  "kernelspec": {
   "display_name": "ML",
   "language": "python",
   "name": "python3"
  },
  "language_info": {
   "codemirror_mode": {
    "name": "ipython",
    "version": 3
   },
   "file_extension": ".py",
   "mimetype": "text/x-python",
   "name": "python",
   "nbconvert_exporter": "python",
   "pygments_lexer": "ipython3",
   "version": "3.12.2"
  }
 },
 "nbformat": 4,
 "nbformat_minor": 2
}
